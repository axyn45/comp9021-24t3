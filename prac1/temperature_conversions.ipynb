{
    "cells": [
        {
            "cell_type": "code",
            "execution_count": 1,
            "metadata": {},
            "outputs": [],
            "source": [
                "load_ext run_and_test"
            ]
        },
        {
            "attachments": {},
            "cell_type": "markdown",
            "metadata": {},
            "source": [
                "# Converting temperatures from Fahrenheit to Celsius degrees"
            ]
        },
        {
            "attachments": {},
            "cell_type": "markdown",
            "metadata": {},
            "source": [
                "Study and run the following program."
            ]
        },
        {
            "cell_type": "code",
            "execution_count": 2,
            "metadata": {},
            "outputs": [
                {
                    "name": "stdout",
                    "output_type": "stream",
                    "text": [
                        "Fahrenheit\tCelsius\n",
                        "         0\t  -17.8\n",
                        "        20\t   -6.7\n",
                        "        40\t    4.4\n",
                        "        60\t   15.6\n",
                        "        80\t   26.7\n",
                        "       100\t   37.8\n",
                        "       120\t   48.9\n",
                        "       140\t   60.0\n",
                        "       160\t   71.1\n",
                        "       180\t   82.2\n",
                        "       200\t   93.3\n",
                        "       220\t  104.4\n",
                        "       240\t  115.6\n",
                        "       260\t  126.7\n",
                        "       280\t  137.8\n",
                        "       300\t  148.9\n"
                    ]
                }
            ],
            "source": [
                "# %load fahrenheit_to_celsius.py\n",
                "# Written by Eric Martin for COMP9021\n",
                "\n",
                "\n",
                "# Prints out a conversion table of temperatures from Fahrenheit\n",
                "# to Celsius degrees, with the former ranging from 0 to 300 in\n",
                "# steps of 20.\n",
                "\n",
                "\n",
                "min_temperature = 0\n",
                "max_temperature = 300\n",
                "step = 20\n",
                "# \\t: A tab\n",
                "print('Fahrenheit\\tCelsius')\n",
                "# We let fahrenheit take the values\n",
                "# - min_temperature\n",
                "# - min_temperature + step\n",
                "# - min_temperature + 2 * step\n",
                "# - min_temperature + 3 * step\n",
                "# ...\n",
                "# up to the largest value smaller than max_temperature + step\n",
                "for fahrenheit in range(min_temperature, max_temperature + step, step):\n",
                "    celsius = 5 * (fahrenheit - 32) / 9\n",
                "    # {:10d} or {:10}: fahrenheit as a decimal number in a field\n",
                "    # of width 10.\n",
                "    # {:7.1f}: celsius as a floating point number in a field of\n",
                "    # width 7 with 1 digit after the decimal point.\n",
                "    print(f'{fahrenheit:10}\\t{celsius:7.1f}')\n"
            ]
        },
        {
            "attachments": {},
            "cell_type": "markdown",
            "metadata": {},
            "source": [
                "# Task"
            ]
        },
        {
            "attachments": {},
            "cell_type": "markdown",
            "metadata": {},
            "source": [
                "Write a program `celsius_to_fahrenheit.py` that displays a conversion table from Celsius degrees to Fahrenheit degrees, with the former ranging from 0 to 100 in steps of 10."
            ]
        },
        {
            "attachments": {},
            "cell_type": "markdown",
            "metadata": {},
            "source": [
                "# Test"
            ]
        },
        {
            "cell_type": "code",
            "execution_count": 5,
            "metadata": {},
            "outputs": [
                {
                    "ename": "PermissionError",
                    "evalue": "[Errno 13] Permission denied: 'c:\\\\Users\\\\windowpain\\\\backup\\\\Documents\\\\coding\\\\9021\\\\prac1\\\\tmp1uhm5lm1'",
                    "output_type": "error",
                    "traceback": [
                        "\u001b[1;31m---------------------------------------------------------------------------\u001b[0m",
                        "\u001b[1;31mPermissionError\u001b[0m                           Traceback (most recent call last)",
                        "Cell \u001b[1;32mIn[5], line 1\u001b[0m\n\u001b[1;32m----> 1\u001b[0m get_ipython()\u001b[39m.\u001b[39;49mrun_cell_magic(\u001b[39m'\u001b[39;49m\u001b[39mrun_and_test\u001b[39;49m\u001b[39m'\u001b[39;49m, \u001b[39m'\u001b[39;49m\u001b[39mpython3 celsius_to_fahrenheit.py\u001b[39;49m\u001b[39m'\u001b[39;49m, \u001b[39m\"\u001b[39;49m\u001b[39m\\n\u001b[39;49;00m\u001b[39m'\u001b[39;49m\u001b[39m'\u001b[39;49m\u001b[39m'\u001b[39;49m\u001b[39m\\n\u001b[39;49;00m\u001b[39mCelsius\u001b[39;49m\u001b[39m\\t\u001b[39;49;00m\u001b[39mFahrenheit\u001b[39;49m\u001b[39m\\\\\u001b[39;49;00m\u001b[39mn\u001b[39;49m\u001b[39m\\n\u001b[39;49;00m\u001b[39m      0\u001b[39;49m\u001b[39m\\t\u001b[39;49;00m\u001b[39m        32\u001b[39;49m\u001b[39m\\\\\u001b[39;49;00m\u001b[39mn\u001b[39;49m\u001b[39m\\n\u001b[39;49;00m\u001b[39m     10\u001b[39;49m\u001b[39m\\t\u001b[39;49;00m\u001b[39m        50\u001b[39;49m\u001b[39m\\\\\u001b[39;49;00m\u001b[39mn\u001b[39;49m\u001b[39m\\n\u001b[39;49;00m\u001b[39m     20\u001b[39;49m\u001b[39m\\t\u001b[39;49;00m\u001b[39m        68\u001b[39;49m\u001b[39m\\\\\u001b[39;49;00m\u001b[39mn\u001b[39;49m\u001b[39m\\n\u001b[39;49;00m\u001b[39m     30\u001b[39;49m\u001b[39m\\t\u001b[39;49;00m\u001b[39m        86\u001b[39;49m\u001b[39m\\\\\u001b[39;49;00m\u001b[39mn\u001b[39;49m\u001b[39m\\n\u001b[39;49;00m\u001b[39m     40\u001b[39;49m\u001b[39m\\t\u001b[39;49;00m\u001b[39m       104\u001b[39;49m\u001b[39m\\\\\u001b[39;49;00m\u001b[39mn\u001b[39;49m\u001b[39m\\n\u001b[39;49;00m\u001b[39m     50\u001b[39;49m\u001b[39m\\t\u001b[39;49;00m\u001b[39m       122\u001b[39;49m\u001b[39m\\\\\u001b[39;49;00m\u001b[39mn\u001b[39;49m\u001b[39m\\n\u001b[39;49;00m\u001b[39m     60\u001b[39;49m\u001b[39m\\t\u001b[39;49;00m\u001b[39m       140\u001b[39;49m\u001b[39m\\\\\u001b[39;49;00m\u001b[39mn\u001b[39;49m\u001b[39m\\n\u001b[39;49;00m\u001b[39m     70\u001b[39;49m\u001b[39m\\t\u001b[39;49;00m\u001b[39m       158\u001b[39;49m\u001b[39m\\\\\u001b[39;49;00m\u001b[39mn\u001b[39;49m\u001b[39m\\n\u001b[39;49;00m\u001b[39m     80\u001b[39;49m\u001b[39m\\t\u001b[39;49;00m\u001b[39m       176\u001b[39;49m\u001b[39m\\\\\u001b[39;49;00m\u001b[39mn\u001b[39;49m\u001b[39m\\n\u001b[39;49;00m\u001b[39m     90\u001b[39;49m\u001b[39m\\t\u001b[39;49;00m\u001b[39m       194\u001b[39;49m\u001b[39m\\\\\u001b[39;49;00m\u001b[39mn\u001b[39;49m\u001b[39m\\n\u001b[39;49;00m\u001b[39m    100\u001b[39;49m\u001b[39m\\t\u001b[39;49;00m\u001b[39m       212\u001b[39;49m\u001b[39m\\\\\u001b[39;49;00m\u001b[39mn\u001b[39;49m\u001b[39m\\n\u001b[39;49;00m\u001b[39m'\u001b[39;49m\u001b[39m'\u001b[39;49m\u001b[39m'\u001b[39;49m\u001b[39m\\n\u001b[39;49;00m\u001b[39m\"\u001b[39;49m)\n",
                        "File \u001b[1;32m~\\AppData\\Roaming\\Python\\Python311\\site-packages\\IPython\\core\\interactiveshell.py:2541\u001b[0m, in \u001b[0;36mInteractiveShell.run_cell_magic\u001b[1;34m(self, magic_name, line, cell)\u001b[0m\n\u001b[0;32m   2539\u001b[0m \u001b[39mwith\u001b[39;00m \u001b[39mself\u001b[39m\u001b[39m.\u001b[39mbuiltin_trap:\n\u001b[0;32m   2540\u001b[0m     args \u001b[39m=\u001b[39m (magic_arg_s, cell)\n\u001b[1;32m-> 2541\u001b[0m     result \u001b[39m=\u001b[39m fn(\u001b[39m*\u001b[39;49margs, \u001b[39m*\u001b[39;49m\u001b[39m*\u001b[39;49mkwargs)\n\u001b[0;32m   2543\u001b[0m \u001b[39m# The code below prevents the output from being displayed\u001b[39;00m\n\u001b[0;32m   2544\u001b[0m \u001b[39m# when using magics with decorator @output_can_be_silenced\u001b[39;00m\n\u001b[0;32m   2545\u001b[0m \u001b[39m# when the last Python token in the expression is a ';'.\u001b[39;00m\n\u001b[0;32m   2546\u001b[0m \u001b[39mif\u001b[39;00m \u001b[39mgetattr\u001b[39m(fn, magic\u001b[39m.\u001b[39mMAGIC_OUTPUT_CAN_BE_SILENCED, \u001b[39mFalse\u001b[39;00m):\n",
                        "File \u001b[1;32mc:\\Users\\windowpain\\backup\\Documents\\coding\\9021\\prac1\\run_and_test.py:131\u001b[0m, in \u001b[0;36mrun_and_test\u001b[1;34m(magic_arguments, outputs_inputs)\u001b[0m\n\u001b[0;32m    127\u001b[0m \u001b[39melse\u001b[39;00m:\n\u001b[0;32m    128\u001b[0m     \u001b[39m# It is assumed that the module to run is stored in the working\u001b[39;00m\n\u001b[0;32m    129\u001b[0m     \u001b[39m# directory.\u001b[39;00m\n\u001b[0;32m    130\u001b[0m     \u001b[39mwith\u001b[39;00m NamedTemporaryFile(\u001b[39m'\u001b[39m\u001b[39mw\u001b[39m\u001b[39m'\u001b[39m, \u001b[39mdir\u001b[39m\u001b[39m=\u001b[39m\u001b[39m'\u001b[39m\u001b[39m.\u001b[39m\u001b[39m'\u001b[39m) \u001b[39mas\u001b[39;00m temp_file:\n\u001b[1;32m--> 131\u001b[0m         expand_with_echoed_input(magic_arguments, temp_file)\n\u001b[0;32m    132\u001b[0m         p \u001b[39m=\u001b[39m execute((\u001b[39m'\u001b[39m\u001b[39mpython3\u001b[39m\u001b[39m'\u001b[39m, \u001b[39m'\u001b[39m\u001b[39m-B\u001b[39m\u001b[39m'\u001b[39m, temp_file\u001b[39m.\u001b[39mname), options)\n\u001b[0;32m    133\u001b[0m \u001b[39mif\u001b[39;00m \u001b[39mnot\u001b[39;00m p:\n",
                        "File \u001b[1;32mc:\\Users\\windowpain\\backup\\Documents\\coding\\9021\\prac1\\run_and_test.py:321\u001b[0m, in \u001b[0;36mexpand_with_echoed_input\u001b[1;34m(module, filename)\u001b[0m\n\u001b[0;32m    320\u001b[0m \u001b[39mdef\u001b[39;00m \u001b[39mexpand_with_echoed_input\u001b[39m(module, filename):\n\u001b[1;32m--> 321\u001b[0m     \u001b[39mwith\u001b[39;00m \u001b[39mopen\u001b[39;49m(filename\u001b[39m.\u001b[39;49mname, \u001b[39m'\u001b[39;49m\u001b[39mw\u001b[39;49m\u001b[39m'\u001b[39;49m) \u001b[39mas\u001b[39;00m file:\n\u001b[0;32m    322\u001b[0m         file\u001b[39m.\u001b[39mwrite(\u001b[39m'\u001b[39m\u001b[39mimport builtins\u001b[39m\u001b[39m\\n\u001b[39;00m\u001b[39m'\u001b[39m\n\u001b[0;32m    323\u001b[0m                    \u001b[39m'\u001b[39m\u001b[39mdef input(prompt):\u001b[39m\u001b[39m\\n\u001b[39;00m\u001b[39m'\u001b[39m\n\u001b[0;32m    324\u001b[0m                    \u001b[39m'\u001b[39m\u001b[39m    user_input = builtins.input(prompt)\u001b[39m\u001b[39m\\n\u001b[39;00m\u001b[39m'\u001b[39m\n\u001b[0;32m    325\u001b[0m                    \u001b[39m'\u001b[39m\u001b[39m    print(user_input)\u001b[39m\u001b[39m\\n\u001b[39;00m\u001b[39m'\u001b[39m\n\u001b[0;32m    326\u001b[0m                    \u001b[39m'\u001b[39m\u001b[39m    return user_input\u001b[39m\u001b[39m\\n\u001b[39;00m\u001b[39m'\u001b[39m\n\u001b[0;32m    327\u001b[0m                   )\n\u001b[0;32m    328\u001b[0m         file\u001b[39m.\u001b[39mwritelines(\u001b[39mopen\u001b[39m(module))\n",
                        "\u001b[1;31mPermissionError\u001b[0m: [Errno 13] Permission denied: 'c:\\\\Users\\\\windowpain\\\\backup\\\\Documents\\\\coding\\\\9021\\\\prac1\\\\tmp1uhm5lm1'"
                    ]
                }
            ],
            "source": [
                "%%run_and_test python3 celsius_to_fahrenheit.py\n",
                "\n",
                "'''\n",
                "Celsius\tFahrenheit\\n\n",
                "      0\t        32\\n\n",
                "     10\t        50\\n\n",
                "     20\t        68\\n\n",
                "     30\t        86\\n\n",
                "     40\t       104\\n\n",
                "     50\t       122\\n\n",
                "     60\t       140\\n\n",
                "     70\t       158\\n\n",
                "     80\t       176\\n\n",
                "     90\t       194\\n\n",
                "    100\t       212\\n\n",
                "'''"
            ]
        }
    ],
    "metadata": {
        "kernelspec": {
            "display_name": "Python 3 (ipykernel)",
            "language": "python",
            "name": "python3"
        },
        "language_info": {
            "codemirror_mode": {
                "name": "ipython",
                "version": 3
            },
            "file_extension": ".py",
            "mimetype": "text/x-python",
            "name": "python",
            "nbconvert_exporter": "python",
            "pygments_lexer": "ipython3",
            "version": "3.11.3"
        }
    },
    "nbformat": 4,
    "nbformat_minor": 4
}
